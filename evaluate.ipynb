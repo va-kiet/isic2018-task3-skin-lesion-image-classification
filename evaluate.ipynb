{
  "nbformat": 4,
  "nbformat_minor": 0,
  "metadata": {
    "colab": {
      "provenance": []
    },
    "kernelspec": {
      "name": "python3",
      "display_name": "Python 3"
    },
    "language_info": {
      "name": "python"
    }
  },
  "cells": [
    {
      "cell_type": "code",
      "source": [
        "from google.colab import drive\n",
        "drive.mount('/content/drive',force_remount=True)"
      ],
      "metadata": {
        "colab": {
          "base_uri": "https://localhost:8080/"
        },
        "id": "vYavOdkUpk8B",
        "outputId": "fe9b70fd-a0d3-4fd7-9bfa-ac40f850c818"
      },
      "execution_count": null,
      "outputs": [
        {
          "output_type": "stream",
          "name": "stdout",
          "text": [
            "Mounted at /content/drive\n"
          ]
        }
      ]
    },
    {
      "cell_type": "code",
      "source": [
        "!unzip '/content/drive/MyDrive/Colab Notebooks/data/ISIC2018_Task3_Test_GroundTruth.zip'"
      ],
      "metadata": {
        "colab": {
          "base_uri": "https://localhost:8080/"
        },
        "id": "FLIqS9VYpkxl",
        "outputId": "ba50eca9-80c2-4250-8110-a2a8f74b19fc"
      },
      "execution_count": null,
      "outputs": [
        {
          "output_type": "stream",
          "name": "stdout",
          "text": [
            "Archive:  /content/drive/MyDrive/Colab Notebooks/data/ISIC2018_Task3_Test_GroundTruth.zip\n",
            "   creating: ISIC2018_Task3_Test_GroundTruth/\n",
            "  inflating: ISIC2018_Task3_Test_GroundTruth/LICENSE.txt  \n",
            "  inflating: ISIC2018_Task3_Test_GroundTruth/ATTRIBUTION.txt  \n",
            "  inflating: ISIC2018_Task3_Test_GroundTruth/ISIC2018_Task3_Test_GroundTruth.csv  \n"
          ]
        }
      ]
    },
    {
      "cell_type": "code",
      "execution_count": null,
      "metadata": {
        "id": "mRaln4lvljH6"
      },
      "outputs": [],
      "source": [
        "import pandas as pd\n",
        "import numpy as np\n",
        "from sklearn.metrics import classification_report, f1_score"
      ]
    },
    {
      "cell_type": "code",
      "source": [
        "test_csv = '/content/ISIC2018_Task3_Test_GroundTruth/ISIC2018_Task3_Test_GroundTruth.csv'\n",
        "vgg19_csv = '/content/drive/MyDrive/Colab Notebooks/isic_2018_task3_preds/VGG19_prediction.csv'\n",
        "resnet101_csv = '/content/drive/MyDrive/Colab Notebooks/isic_2018_task3_preds/ResNet101_prediction.csv'"
      ],
      "metadata": {
        "id": "tGx3LPvfsWFS"
      },
      "execution_count": null,
      "outputs": []
    },
    {
      "cell_type": "code",
      "source": [
        "test_df = pd.read_csv(test_csv)\n",
        "vgg19_pred = pd.read_csv(vgg19_csv)\n",
        "resnet101_pred = pd.read_csv(resnet101_csv)\n",
        "classes = list(test_df.columns[1:])"
      ],
      "metadata": {
        "id": "HsutYxumr6AI"
      },
      "execution_count": null,
      "outputs": []
    },
    {
      "cell_type": "code",
      "source": [
        "def get_prediction(pred):\n",
        "  predicts = []\n",
        "  for i in range(len(pred)):\n",
        "    predicts.append(np.array(pred.iloc[i, 1:]).argmax())\n",
        "  return predicts"
      ],
      "metadata": {
        "id": "TmtzkIS7UPl4"
      },
      "execution_count": null,
      "outputs": []
    },
    {
      "cell_type": "code",
      "source": [
        "targets = []\n",
        "for i in range(len(test_df)):\n",
        "  targets.append(np.array(test_df.iloc[i, 1:]).argmax())"
      ],
      "metadata": {
        "id": "kkDpr-Q1DXgA"
      },
      "execution_count": null,
      "outputs": []
    },
    {
      "cell_type": "code",
      "source": [
        "vgg19_prediction = get_prediction(vgg19_pred)\n",
        "resnet101_prediction = get_prediction(resnet101_pred)"
      ],
      "metadata": {
        "id": "QH16pO9FHd7F"
      },
      "execution_count": null,
      "outputs": []
    },
    {
      "cell_type": "code",
      "source": [
        "def accuracy(preds, targets):\n",
        "  count = 0\n",
        "  for i in range(len(preds)):\n",
        "    if preds[i] == targets[i]:\n",
        "      count += 1\n",
        "  return count / len(preds)"
      ],
      "metadata": {
        "id": "tPEFxNz5GEIc"
      },
      "execution_count": null,
      "outputs": []
    },
    {
      "cell_type": "code",
      "source": [
        "vgg19_acc = accuracy(vgg19_prediction, targets)\n",
        "resnet101_acc = accuracy(resnet101_prediction, targets)"
      ],
      "metadata": {
        "id": "bGdERJ35H8oe"
      },
      "execution_count": null,
      "outputs": []
    },
    {
      "cell_type": "code",
      "source": [
        "vgg19_report = classification_report(vgg19_prediction, targets, target_names=classes)\n",
        "resnet101_report = classification_report(resnet101_prediction, targets, target_names=classes)"
      ],
      "metadata": {
        "id": "mYBu6LP-G2E4"
      },
      "execution_count": null,
      "outputs": []
    },
    {
      "cell_type": "code",
      "source": [
        "vgg19_macroavg = f1_score(vgg19_prediction, targets, average='macro')\n",
        "resnet101_macroavg = f1_score(resnet101_prediction, targets, average='macro')"
      ],
      "metadata": {
        "id": "1z9xQdY6IShW"
      },
      "execution_count": null,
      "outputs": []
    },
    {
      "cell_type": "code",
      "source": [
        "print(vgg19_acc)\n",
        "print(vgg19_macroavg)\n",
        "print(vgg19_report)\n",
        "\n",
        "print(resnet101_acc)\n",
        "print(resnet101_macroavg)\n",
        "print(resnet101_report)"
      ],
      "metadata": {
        "id": "0XazVhqx81ET",
        "colab": {
          "base_uri": "https://localhost:8080/"
        },
        "outputId": "4863946f-4b5e-4a24-e56d-5fdae2110f6b"
      },
      "execution_count": null,
      "outputs": [
        {
          "output_type": "stream",
          "name": "stdout",
          "text": [
            "0.6832010582010583\n",
            "0.4038928241007778\n",
            "              precision    recall  f1-score   support\n",
            "\n",
            "         MEL       0.33      0.44      0.38       130\n",
            "          NV       0.92      0.76      0.83      1093\n",
            "         BCC       0.49      0.43      0.46       108\n",
            "       AKIEC       0.14      0.26      0.18        23\n",
            "         BKL       0.35      0.54      0.42       142\n",
            "          DF       0.05      0.50      0.08         4\n",
            "        VASC       0.31      0.92      0.47        12\n",
            "\n",
            "    accuracy                           0.68      1512\n",
            "   macro avg       0.37      0.55      0.40      1512\n",
            "weighted avg       0.77      0.68      0.71      1512\n",
            "\n",
            "0.7533068783068783\n",
            "0.5724536782759247\n",
            "              precision    recall  f1-score   support\n",
            "\n",
            "         MEL       0.40      0.64      0.50       107\n",
            "          NV       0.93      0.81      0.87      1044\n",
            "         BCC       0.63      0.58      0.61       102\n",
            "       AKIEC       0.60      0.46      0.53        56\n",
            "         BKL       0.50      0.71      0.58       153\n",
            "          DF       0.36      0.70      0.48        23\n",
            "        VASC       0.40      0.52      0.45        27\n",
            "\n",
            "    accuracy                           0.75      1512\n",
            "   macro avg       0.55      0.63      0.57      1512\n",
            "weighted avg       0.80      0.75      0.77      1512\n",
            "\n"
          ]
        }
      ]
    },
    {
      "cell_type": "code",
      "source": [],
      "metadata": {
        "id": "SW9kaks9Ydx8"
      },
      "execution_count": null,
      "outputs": []
    }
  ]
}